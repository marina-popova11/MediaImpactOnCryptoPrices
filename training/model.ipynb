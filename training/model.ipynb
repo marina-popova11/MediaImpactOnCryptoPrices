{
 "cells": [
  {
   "cell_type": "code",
   "execution_count": 3,
   "id": "30d0ff2d-e90f-410c-99a1-10cd12f37e02",
   "metadata": {},
   "outputs": [
    {
     "name": "stdout",
     "output_type": "stream",
     "text": [
      "Collecting vaderSentiment\n",
      "  Using cached vaderSentiment-3.3.2-py2.py3-none-any.whl.metadata (572 bytes)\n",
      "Requirement already satisfied: requests in c:\\users\\peche\\appdata\\local\\programs\\python\\python313\\lib\\site-packages (from vaderSentiment) (2.32.5)\n",
      "Requirement already satisfied: charset_normalizer<4,>=2 in c:\\users\\peche\\appdata\\local\\programs\\python\\python313\\lib\\site-packages (from requests->vaderSentiment) (3.4.3)\n",
      "Requirement already satisfied: idna<4,>=2.5 in c:\\users\\peche\\appdata\\local\\programs\\python\\python313\\lib\\site-packages (from requests->vaderSentiment) (3.10)\n",
      "Requirement already satisfied: urllib3<3,>=1.21.1 in c:\\users\\peche\\appdata\\local\\programs\\python\\python313\\lib\\site-packages (from requests->vaderSentiment) (2.5.0)\n",
      "Requirement already satisfied: certifi>=2017.4.17 in c:\\users\\peche\\appdata\\local\\programs\\python\\python313\\lib\\site-packages (from requests->vaderSentiment) (2025.8.3)\n",
      "Using cached vaderSentiment-3.3.2-py2.py3-none-any.whl (125 kB)\n",
      "Installing collected packages: vaderSentiment\n",
      "Successfully installed vaderSentiment-3.3.2\n"
     ]
    }
   ],
   "source": [
    "!pip install vaderSentiment"
   ]
  },
  {
   "cell_type": "code",
   "execution_count": 5,
   "id": "5d79dcab-5d1b-41e1-bf94-19cfe0a73d8d",
   "metadata": {},
   "outputs": [
    {
     "name": "stdout",
     "output_type": "stream",
     "text": [
      "Chandigarh: Students question NEET answer keys; write to NTA -> neutral (compound=0.0)\n",
      "Mumbai's kaali-peelis to get an app this month -> neutral (compound=0.0)\n",
      "Impoverished heart patient seeks euthanasia -> positive (compound=0.6369)\n",
      "Harassed by moneylenders; man kills himself -> negative (compound=-0.7906)\n",
      "Bihar must retain growth tempo for 20 years: Ansari -> neutral (compound=0.3818)\n",
      "Let there be light! -> neutral (compound=0.0)\n",
      "Industry asks RBI to cut interest rates; boost investments -> positive (compound=0.5574)\n",
      "AAP members detained for protest -> negative (compound=-0.5719)\n",
      "Woman's murder: Suspect kills self; family protests -> negative (compound=-0.9062)\n",
      "Cricket bat manufacturing firm BDM's director abducted in Meerut -> negative (compound=-0.5106)\n",
      "Yet again illegal structures crop up around Charminar precincts -> negative (compound=-0.5574)\n",
      "Tribal girl's doctor dream fades away -> neutral (compound=0.25)\n",
      "Chennai: Two held for killing woman -> negative (compound=-0.6597)\n",
      "Bajrang Dal leader held for FB threat -> negative (compound=-0.5267)\n",
      "Sec 48 Food Street kiosk bid price down to Rs 20k -> neutral (compound=0.0)\n",
      "Sensex defies global slide; up 265 pts -> neutral (compound=0.0)\n",
      "Govt starts replacing electricity meters -> neutral (compound=0.0)\n",
      "15-year-old girl attempts suicide; saved by father -> neutral (compound=-0.4019)\n",
      "IPS officers 'leave' government houses; many more pending -> neutral (compound=-0.0516)\n",
      "Mumbai varsity income up by 53%; expenditure by 58% -> neutral (compound=0.0)\n",
      "Straight answers -> neutral (compound=0.2263)\n",
      "Celeb Videos -> neutral (compound=0.0)\n",
      "Tamannaah Bhatia's sexy pics -> positive (compound=0.5267)\n",
      "Ponda youth dies in mishap at Borim -> neutral (compound=0.0)\n",
      "Pune civic polls 2017: Defeated candidates allege election rigged -> negative (compound=-0.6808)\n",
      "Use technology for high yield; says agriculture expert -> neutral (compound=0.0)\n",
      "Political parties plan solo run -> neutral (compound=0.4019)\n",
      "MSU joins Bhukhi Nullah clean-up -> neutral (compound=0.0)\n",
      "Top 10 Most Common Project Management Mistakes to Avoid -> neutral (compound=-0.4404)\n",
      "Villagers help foresters douse Bandipur blaze -> neutral (compound=0.4019)\n",
      "Pedestrian plaza turns a culture hotspot -> neutral (compound=0.0)\n",
      "Arya College wins basketball tourney -> positive (compound=0.5719)\n",
      "BJP councillors to boycott JMC budget session today -> neutral (compound=-0.3182)\n",
      "Microsoft offering Windows 8 for Rs 1;999 -> neutral (compound=0.0)\n",
      "Panel set up to address travel woes of students -> neutral (compound=-0.4404)\n",
      "JD(U) assails Centre over wheat price -> neutral (compound=0.0)\n",
      "What's the origin of the word 'greenhorn'? -> neutral (compound=0.0)\n",
      "Another fat fish in ACB net -> neutral (compound=0.0)\n",
      "India to lead global fight against drug trafficking: Shah -> neutral (compound=-0.3818)\n",
      "Delhiamp39s foundation stones forgotten lie in locked halls -> neutral (compound=-0.2263)\n",
      "Bigamist uses crackers to end life -> neutral (compound=0.0)\n",
      "Autos; taxis hope to revive biz as Metro set to resume -> positive (compound=0.6486)\n",
      "Gujarat: Strict laws shut down offerings of alcohol -> neutral (compound=0.0)\n",
      "Red Crescent in pact with Unitac; government not involved -> neutral (compound=0.0)\n",
      "Nagpur to remain cool for next week -> neutral (compound=0.3182)\n",
      "Malda poll boycott: Defiance curbed with Rs 5000 fine -> neutral (compound=-0.128)\n",
      "Short sellers 'clamoring' to borrow Roku shares -S3 Partners -> neutral (compound=0.296)\n",
      "English lessons; Korean grit is Chung's winning mantra -> positive (compound=0.5267)\n",
      "Aadhaar card scam: Tirupur police arrest another man from Bihar -> negative (compound=-0.7269)\n",
      "Bengali adaptation of Broken Images to be staged in July again -> neutral (compound=-0.4767)\n"
     ]
    }
   ],
   "source": [
    "import pandas as pd\n",
    "\n",
    "from vaderSentiment.vaderSentiment import SentimentIntensityAnalyzer\n",
    "\n",
    "def get_sentiment(text):\n",
    "    score = analyzer.polarity_scores(text)\n",
    "    compound = score[\"compound\"]\n",
    "    if score[\"compound\"] >= 0.5:\n",
    "        sentiment = \"positive\"\n",
    "    elif score[\"compound\"] <= -0.5:\n",
    "        sentiment = \"negative\"\n",
    "    else:\n",
    "        sentiment = \"neutral\"\n",
    "    return pd.Series([compound, sentiment])\n",
    "\n",
    "analyzer = SentimentIntensityAnalyzer()\n",
    "data = pd.read_csv(\"india-news-headlines.csv\")\n",
    "data_sample = data.sample(1000, random_state=42)\n",
    "data_sample[[\"compound\", \"sentiment\"]] = data_sample[\"headline_text\"].apply(get_sentiment)\n",
    "for index, row in data_sample.head(50).iterrows():\n",
    "    print(f\"{row['headline_text']} -> {row['sentiment']} (compound={row['compound']})\")"
   ]
  }
 ],
 "metadata": {
  "kernelspec": {
   "display_name": "Python 3 (ipykernel)",
   "language": "python",
   "name": "python3"
  },
  "language_info": {
   "codemirror_mode": {
    "name": "ipython",
    "version": 3
   },
   "file_extension": ".py",
   "mimetype": "text/x-python",
   "name": "python",
   "nbconvert_exporter": "python",
   "pygments_lexer": "ipython3",
   "version": "3.13.7"
  }
 },
 "nbformat": 4,
 "nbformat_minor": 5
}
